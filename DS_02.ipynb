{
 "cells": [
  {
   "cell_type": "markdown",
   "id": "6cd4009d-4f91-4ddc-bc9a-55cf9b4e7400",
   "metadata": {},
   "source": [
    "# PRACTICAL NO. 2\n",
    "# Data Wrangling I"
   ]
  },
  {
   "cell_type": "markdown",
   "id": "48ce6fc8-aff7-4df9-ade1-8ac3c8ad5dde",
   "metadata": {},
   "source": [
    "Perform the following operations using Python on dataset(e.g., student.csv)\n",
    "1. Import all the required Python Libraries. And Load the Dataset into pandas data frame.\n",
    "2. Data Preprocessing: find the missing values in the data and display statistical information.\n",
    "3. Provide variable descriptions. Types of variables etc. Check the dimensions of the data frame\n",
    "4. Data Normalization: Perform min max normalization and plot box plot for any column\n",
    "5. Turn categorical variables for PG column into quantitative variables in Python."
   ]
  },
  {
   "cell_type": "markdown",
   "id": "dc386ba0-bcf8-476b-8703-3edad79483f7",
   "metadata": {},
   "source": [
    "# **1**"
   ]
  },
  {
   "cell_type": "code",
   "execution_count": 77,
   "id": "0525e34e-6723-4064-8d05-91ced022d9ec",
   "metadata": {},
   "outputs": [],
   "source": [
    "import pandas as pd\n",
    "import matplotlib.pyplot as plt"
   ]
  },
  {
   "cell_type": "code",
   "execution_count": 78,
   "id": "cbf66e8f-6094-4693-86fd-909d5f69af7e",
   "metadata": {},
   "outputs": [],
   "source": [
    "df = pd.read_csv('datasets/AcademicPerformance_New.csv')"
   ]
  },
  {
   "cell_type": "code",
   "execution_count": 79,
   "id": "ccd6a5c3-e6a7-4c00-8d81-356ed9d33c9e",
   "metadata": {},
   "outputs": [
    {
     "data": {
      "text/html": [
       "<div>\n",
       "<style scoped>\n",
       "    .dataframe tbody tr th:only-of-type {\n",
       "        vertical-align: middle;\n",
       "    }\n",
       "\n",
       "    .dataframe tbody tr th {\n",
       "        vertical-align: top;\n",
       "    }\n",
       "\n",
       "    .dataframe thead th {\n",
       "        text-align: right;\n",
       "    }\n",
       "</style>\n",
       "<table border=\"1\" class=\"dataframe\">\n",
       "  <thead>\n",
       "    <tr style=\"text-align: right;\">\n",
       "      <th></th>\n",
       "      <th>Roll No</th>\n",
       "      <th>NationalITy</th>\n",
       "      <th>WT</th>\n",
       "      <th>DSBDA</th>\n",
       "      <th>AI</th>\n",
       "      <th>Average</th>\n",
       "      <th>Grade</th>\n",
       "      <th>PG</th>\n",
       "    </tr>\n",
       "  </thead>\n",
       "  <tbody>\n",
       "    <tr>\n",
       "      <th>0</th>\n",
       "      <td>1.0</td>\n",
       "      <td>India</td>\n",
       "      <td>72.0</td>\n",
       "      <td>72.0</td>\n",
       "      <td>74.0</td>\n",
       "      <td>72.666667</td>\n",
       "      <td>C</td>\n",
       "      <td>Yes</td>\n",
       "    </tr>\n",
       "    <tr>\n",
       "      <th>1</th>\n",
       "      <td>2.0</td>\n",
       "      <td>Japan</td>\n",
       "      <td>69.0</td>\n",
       "      <td>90.0</td>\n",
       "      <td>NaN</td>\n",
       "      <td>53.000000</td>\n",
       "      <td>B</td>\n",
       "      <td>No</td>\n",
       "    </tr>\n",
       "    <tr>\n",
       "      <th>2</th>\n",
       "      <td>NaN</td>\n",
       "      <td>NaN</td>\n",
       "      <td>NaN</td>\n",
       "      <td>NaN</td>\n",
       "      <td>NaN</td>\n",
       "      <td>NaN</td>\n",
       "      <td>NaN</td>\n",
       "      <td>NaN</td>\n",
       "    </tr>\n",
       "    <tr>\n",
       "      <th>3</th>\n",
       "      <td>4.0</td>\n",
       "      <td>China</td>\n",
       "      <td>47.0</td>\n",
       "      <td>NaN</td>\n",
       "      <td>44.0</td>\n",
       "      <td>30.333333</td>\n",
       "      <td>D</td>\n",
       "      <td>Yes</td>\n",
       "    </tr>\n",
       "    <tr>\n",
       "      <th>4</th>\n",
       "      <td>5.0</td>\n",
       "      <td>India</td>\n",
       "      <td>76.0</td>\n",
       "      <td>78.0</td>\n",
       "      <td>NaN</td>\n",
       "      <td>51.333333</td>\n",
       "      <td>C</td>\n",
       "      <td>No</td>\n",
       "    </tr>\n",
       "  </tbody>\n",
       "</table>\n",
       "</div>"
      ],
      "text/plain": [
       "   Roll No NationalITy    WT  DSBDA    AI    Average Grade   PG\n",
       "0      1.0       India  72.0   72.0  74.0  72.666667     C  Yes\n",
       "1      2.0       Japan  69.0   90.0   NaN  53.000000     B   No\n",
       "2      NaN         NaN   NaN    NaN   NaN        NaN   NaN  NaN\n",
       "3      4.0       China  47.0    NaN  44.0  30.333333     D  Yes\n",
       "4      5.0       India  76.0   78.0   NaN  51.333333     C   No"
      ]
     },
     "execution_count": 79,
     "metadata": {},
     "output_type": "execute_result"
    }
   ],
   "source": [
    "df.head()"
   ]
  },
  {
   "cell_type": "markdown",
   "id": "0dcbfe6b-fd81-4df4-8c1e-4f75d47e5d6b",
   "metadata": {},
   "source": [
    "# **2**"
   ]
  },
  {
   "cell_type": "code",
   "execution_count": 80,
   "id": "51fc7e45-7f12-4b38-aca4-c344d35db2b0",
   "metadata": {},
   "outputs": [
    {
     "name": "stdout",
     "output_type": "stream",
     "text": [
      "<class 'pandas.core.frame.DataFrame'>\n",
      "RangeIndex: 99 entries, 0 to 98\n",
      "Data columns (total 8 columns):\n",
      " #   Column       Non-Null Count  Dtype  \n",
      "---  ------       --------------  -----  \n",
      " 0   Roll No      98 non-null     float64\n",
      " 1   NationalITy  98 non-null     object \n",
      " 2   WT           91 non-null     float64\n",
      " 3   DSBDA        95 non-null     float64\n",
      " 4   AI           89 non-null     float64\n",
      " 5   Average      98 non-null     float64\n",
      " 6   Grade        98 non-null     object \n",
      " 7   PG           98 non-null     object \n",
      "dtypes: float64(5), object(3)\n",
      "memory usage: 6.3+ KB\n"
     ]
    }
   ],
   "source": [
    "df.info()"
   ]
  },
  {
   "cell_type": "code",
   "execution_count": 81,
   "id": "24e5eeb3-faf1-437b-b5d0-154bc6672c45",
   "metadata": {},
   "outputs": [
    {
     "data": {
      "text/plain": [
       "Roll No         1\n",
       "NationalITy     1\n",
       "WT              8\n",
       "DSBDA           4\n",
       "AI             10\n",
       "Average         1\n",
       "Grade           1\n",
       "PG              1\n",
       "dtype: int64"
      ]
     },
     "execution_count": 81,
     "metadata": {},
     "output_type": "execute_result"
    }
   ],
   "source": [
    "df.isnull().sum()"
   ]
  },
  {
   "cell_type": "markdown",
   "id": "d1f4ccd2-4cb7-4345-b688-bf162107c3dc",
   "metadata": {},
   "source": [
    "### Handling missing values"
   ]
  },
  {
   "cell_type": "markdown",
   "id": "0a8fa500-fdf3-45b3-b13c-2b90108b343e",
   "metadata": {},
   "source": [
    "1. All data"
   ]
  },
  {
   "cell_type": "code",
   "execution_count": 82,
   "id": "ae07b258-9561-4157-a6b9-225b73d89efd",
   "metadata": {},
   "outputs": [],
   "source": [
    "df.dropna(subset=['Roll No'], inplace=True)"
   ]
  },
  {
   "cell_type": "markdown",
   "id": "b8136c56-60c0-471a-9ac5-36ce4d977758",
   "metadata": {},
   "source": [
    "2. City"
   ]
  },
  {
   "cell_type": "code",
   "execution_count": 83,
   "id": "7d15b1f0-7387-4c8b-9071-15ab5e4a7d29",
   "metadata": {},
   "outputs": [],
   "source": [
    "df['WT'] = df['WT'].fillna(df['WT'].median())"
   ]
  },
  {
   "cell_type": "markdown",
   "id": "26a02d7c-7f77-459c-aad5-4271ba4d76df",
   "metadata": {},
   "source": [
    "3. Gender "
   ]
  },
  {
   "cell_type": "code",
   "execution_count": 84,
   "id": "2f80d20e-5140-40e1-903d-d83bf2ed6fd3",
   "metadata": {},
   "outputs": [],
   "source": [
    "df['DSBDA'] = df['DSBDA'].fillna(df['DSBDA'].median())"
   ]
  },
  {
   "cell_type": "markdown",
   "id": "7b8759e8-a8ec-4efa-9929-f84881aec81c",
   "metadata": {},
   "source": [
    "4. Salary"
   ]
  },
  {
   "cell_type": "code",
   "execution_count": 85,
   "id": "ae0213b6-cc84-4efb-88bb-4dd71fb4fa5c",
   "metadata": {},
   "outputs": [],
   "source": [
    "df['AI'] = df['AI'].fillna(df['AI'].median())"
   ]
  },
  {
   "cell_type": "code",
   "execution_count": 86,
   "id": "f292d813-e353-41af-9558-840250625111",
   "metadata": {},
   "outputs": [
    {
     "data": {
      "text/html": [
       "<div>\n",
       "<style scoped>\n",
       "    .dataframe tbody tr th:only-of-type {\n",
       "        vertical-align: middle;\n",
       "    }\n",
       "\n",
       "    .dataframe tbody tr th {\n",
       "        vertical-align: top;\n",
       "    }\n",
       "\n",
       "    .dataframe thead th {\n",
       "        text-align: right;\n",
       "    }\n",
       "</style>\n",
       "<table border=\"1\" class=\"dataframe\">\n",
       "  <thead>\n",
       "    <tr style=\"text-align: right;\">\n",
       "      <th></th>\n",
       "      <th>Roll No</th>\n",
       "      <th>WT</th>\n",
       "      <th>DSBDA</th>\n",
       "      <th>AI</th>\n",
       "      <th>Average</th>\n",
       "    </tr>\n",
       "  </thead>\n",
       "  <tbody>\n",
       "    <tr>\n",
       "      <th>count</th>\n",
       "      <td>98.000000</td>\n",
       "      <td>98.000000</td>\n",
       "      <td>98.000000</td>\n",
       "      <td>98.000000</td>\n",
       "      <td>98.000000</td>\n",
       "    </tr>\n",
       "    <tr>\n",
       "      <th>mean</th>\n",
       "      <td>50.479592</td>\n",
       "      <td>61.295918</td>\n",
       "      <td>64.693878</td>\n",
       "      <td>62.306122</td>\n",
       "      <td>58.663265</td>\n",
       "    </tr>\n",
       "    <tr>\n",
       "      <th>std</th>\n",
       "      <td>28.469274</td>\n",
       "      <td>14.451632</td>\n",
       "      <td>14.662814</td>\n",
       "      <td>15.447556</td>\n",
       "      <td>16.518482</td>\n",
       "    </tr>\n",
       "    <tr>\n",
       "      <th>min</th>\n",
       "      <td>1.000000</td>\n",
       "      <td>18.000000</td>\n",
       "      <td>26.000000</td>\n",
       "      <td>20.000000</td>\n",
       "      <td>26.000000</td>\n",
       "    </tr>\n",
       "    <tr>\n",
       "      <th>25%</th>\n",
       "      <td>26.250000</td>\n",
       "      <td>53.000000</td>\n",
       "      <td>55.000000</td>\n",
       "      <td>54.000000</td>\n",
       "      <td>45.250000</td>\n",
       "    </tr>\n",
       "    <tr>\n",
       "      <th>50%</th>\n",
       "      <td>50.500000</td>\n",
       "      <td>63.000000</td>\n",
       "      <td>66.000000</td>\n",
       "      <td>63.000000</td>\n",
       "      <td>59.333333</td>\n",
       "    </tr>\n",
       "    <tr>\n",
       "      <th>75%</th>\n",
       "      <td>74.750000</td>\n",
       "      <td>71.000000</td>\n",
       "      <td>74.000000</td>\n",
       "      <td>74.000000</td>\n",
       "      <td>71.916667</td>\n",
       "    </tr>\n",
       "    <tr>\n",
       "      <th>max</th>\n",
       "      <td>99.000000</td>\n",
       "      <td>97.000000</td>\n",
       "      <td>95.000000</td>\n",
       "      <td>92.000000</td>\n",
       "      <td>91.666667</td>\n",
       "    </tr>\n",
       "  </tbody>\n",
       "</table>\n",
       "</div>"
      ],
      "text/plain": [
       "         Roll No         WT      DSBDA         AI    Average\n",
       "count  98.000000  98.000000  98.000000  98.000000  98.000000\n",
       "mean   50.479592  61.295918  64.693878  62.306122  58.663265\n",
       "std    28.469274  14.451632  14.662814  15.447556  16.518482\n",
       "min     1.000000  18.000000  26.000000  20.000000  26.000000\n",
       "25%    26.250000  53.000000  55.000000  54.000000  45.250000\n",
       "50%    50.500000  63.000000  66.000000  63.000000  59.333333\n",
       "75%    74.750000  71.000000  74.000000  74.000000  71.916667\n",
       "max    99.000000  97.000000  95.000000  92.000000  91.666667"
      ]
     },
     "execution_count": 86,
     "metadata": {},
     "output_type": "execute_result"
    }
   ],
   "source": [
    "df.describe()"
   ]
  },
  {
   "cell_type": "markdown",
   "id": "b37e71ea-c105-48ff-a54f-9abc9530b3ab",
   "metadata": {},
   "source": [
    "# **3**"
   ]
  },
  {
   "cell_type": "code",
   "execution_count": 87,
   "id": "84adfa39-41e2-4d38-8ad6-03d0d7c3575a",
   "metadata": {},
   "outputs": [
    {
     "name": "stdout",
     "output_type": "stream",
     "text": [
      "<class 'pandas.core.frame.DataFrame'>\n",
      "Index: 98 entries, 0 to 98\n",
      "Data columns (total 8 columns):\n",
      " #   Column       Non-Null Count  Dtype  \n",
      "---  ------       --------------  -----  \n",
      " 0   Roll No      98 non-null     float64\n",
      " 1   NationalITy  98 non-null     object \n",
      " 2   WT           98 non-null     float64\n",
      " 3   DSBDA        98 non-null     float64\n",
      " 4   AI           98 non-null     float64\n",
      " 5   Average      98 non-null     float64\n",
      " 6   Grade        98 non-null     object \n",
      " 7   PG           98 non-null     object \n",
      "dtypes: float64(5), object(3)\n",
      "memory usage: 6.9+ KB\n"
     ]
    }
   ],
   "source": [
    "df.info()"
   ]
  },
  {
   "cell_type": "code",
   "execution_count": 88,
   "id": "425d2d62-340a-4dd9-b104-18269cf6efcd",
   "metadata": {},
   "outputs": [
    {
     "data": {
      "text/plain": [
       "(2, (98, 8))"
      ]
     },
     "execution_count": 88,
     "metadata": {},
     "output_type": "execute_result"
    }
   ],
   "source": [
    "df.ndim, df.shape"
   ]
  },
  {
   "cell_type": "markdown",
   "id": "309f43d5-693b-4fcc-a34e-181773a27288",
   "metadata": {},
   "source": [
    "# **4**"
   ]
  },
  {
   "cell_type": "markdown",
   "id": "d324538f-d1c4-404a-930b-d75c79e788dd",
   "metadata": {},
   "source": [
    "### Perform normalization on 'Average'"
   ]
  },
  {
   "cell_type": "code",
   "execution_count": 89,
   "id": "d44b5b8c-ce99-467c-acf2-5ef6dfc68a0b",
   "metadata": {},
   "outputs": [],
   "source": [
    "df['Average'] = (df['Average'] - df['Average'].min())/(df['Average'].max() - df['Average'].min())"
   ]
  },
  {
   "cell_type": "code",
   "execution_count": 90,
   "id": "a29469c3-85a6-44e1-89b9-b46e9eb52a32",
   "metadata": {},
   "outputs": [
    {
     "data": {
      "text/plain": [
       "0    0.710660\n",
       "1    0.411168\n",
       "3    0.065990\n",
       "4    0.385787\n",
       "5    0.781726\n",
       "Name: Average, dtype: float64"
      ]
     },
     "execution_count": 90,
     "metadata": {},
     "output_type": "execute_result"
    }
   ],
   "source": [
    "df['Average'].head()"
   ]
  },
  {
   "cell_type": "code",
   "execution_count": 91,
   "id": "c9f947df-8dbe-4ece-a12f-7422b052a7da",
   "metadata": {},
   "outputs": [
    {
     "data": {
      "image/png": "[encoded data removed]",
      "text/plain": [
       "<Figure size 640x480 with 1 Axes>"
      ]
     },
     "metadata": {},
     "output_type": "display_data"
    }
   ],
   "source": [
    "plt.boxplot(df['Average'])\n",
    "plt.title('Average Normalized')\n",
    "plt.grid(True)\n",
    "plt.show()"
   ]
  },
  {
   "cell_type": "markdown",
   "id": "ff21288b-fd9a-4d78-a5de-6a905e1bed8a",
   "metadata": {},
   "source": [
    "# **5**"
   ]
  },
  {
   "cell_type": "code",
   "execution_count": 92,
   "id": "b5706d21-b485-413b-899c-e0331413ab40",
   "metadata": {},
   "outputs": [],
   "source": [
    "mapping = {'Yes': 1, 'No':0}\n",
    "df['PG'] = df['PG'].map(mapping)"
   ]
  },
  {
   "cell_type": "code",
   "execution_count": 93,
   "id": "fd1be1f0-eab8-464b-aeca-436f5c587d83",
   "metadata": {},
   "outputs": [
    {
     "data": {
      "text/html": [
       "<div>\n",
       "<style scoped>\n",
       "    .dataframe tbody tr th:only-of-type {\n",
       "        vertical-align: middle;\n",
       "    }\n",
       "\n",
       "    .dataframe tbody tr th {\n",
       "        vertical-align: top;\n",
       "    }\n",
       "\n",
       "    .dataframe thead th {\n",
       "        text-align: right;\n",
       "    }\n",
       "</style>\n",
       "<table border=\"1\" class=\"dataframe\">\n",
       "  <thead>\n",
       "    <tr style=\"text-align: right;\">\n",
       "      <th></th>\n",
       "      <th>Roll No</th>\n",
       "      <th>NationalITy</th>\n",
       "      <th>WT</th>\n",
       "      <th>DSBDA</th>\n",
       "      <th>AI</th>\n",
       "      <th>Average</th>\n",
       "      <th>Grade</th>\n",
       "      <th>PG</th>\n",
       "    </tr>\n",
       "  </thead>\n",
       "  <tbody>\n",
       "    <tr>\n",
       "      <th>0</th>\n",
       "      <td>1.0</td>\n",
       "      <td>India</td>\n",
       "      <td>72.0</td>\n",
       "      <td>72.0</td>\n",
       "      <td>74.0</td>\n",
       "      <td>0.710660</td>\n",
       "      <td>C</td>\n",
       "      <td>1</td>\n",
       "    </tr>\n",
       "    <tr>\n",
       "      <th>1</th>\n",
       "      <td>2.0</td>\n",
       "      <td>Japan</td>\n",
       "      <td>69.0</td>\n",
       "      <td>90.0</td>\n",
       "      <td>63.0</td>\n",
       "      <td>0.411168</td>\n",
       "      <td>B</td>\n",
       "      <td>0</td>\n",
       "    </tr>\n",
       "    <tr>\n",
       "      <th>3</th>\n",
       "      <td>4.0</td>\n",
       "      <td>China</td>\n",
       "      <td>47.0</td>\n",
       "      <td>66.0</td>\n",
       "      <td>44.0</td>\n",
       "      <td>0.065990</td>\n",
       "      <td>D</td>\n",
       "      <td>1</td>\n",
       "    </tr>\n",
       "    <tr>\n",
       "      <th>4</th>\n",
       "      <td>5.0</td>\n",
       "      <td>India</td>\n",
       "      <td>76.0</td>\n",
       "      <td>78.0</td>\n",
       "      <td>63.0</td>\n",
       "      <td>0.385787</td>\n",
       "      <td>C</td>\n",
       "      <td>0</td>\n",
       "    </tr>\n",
       "    <tr>\n",
       "      <th>5</th>\n",
       "      <td>6.0</td>\n",
       "      <td>Japan</td>\n",
       "      <td>71.0</td>\n",
       "      <td>83.0</td>\n",
       "      <td>78.0</td>\n",
       "      <td>0.781726</td>\n",
       "      <td>C</td>\n",
       "      <td>1</td>\n",
       "    </tr>\n",
       "  </tbody>\n",
       "</table>\n",
       "</div>"
      ],
      "text/plain": [
       "   Roll No NationalITy    WT  DSBDA    AI   Average Grade  PG\n",
       "0      1.0       India  72.0   72.0  74.0  0.710660     C   1\n",
       "1      2.0       Japan  69.0   90.0  63.0  0.411168     B   0\n",
       "3      4.0       China  47.0   66.0  44.0  0.065990     D   1\n",
       "4      5.0       India  76.0   78.0  63.0  0.385787     C   0\n",
       "5      6.0       Japan  71.0   83.0  78.0  0.781726     C   1"
      ]
     },
     "execution_count": 93,
     "metadata": {},
     "output_type": "execute_result"
    }
   ],
   "source": [
    "df.head()"
   ]
  }
 ],
 "metadata": {
  "kernelspec": {
   "display_name": ".venv",
   "language": "python",
   "name": "python3"
  },
  "language_info": {
   "codemirror_mode": {
    "name": "ipython",
    "version": 3
   },
   "file_extension": ".py",
   "mimetype": "text/x-python",
   "name": "python",
   "nbconvert_exporter": "python",
   "pygments_lexer": "ipython3",
   "version": "3.12.10"
  }
 },
 "nbformat": 4,
 "nbformat_minor": 5
}
